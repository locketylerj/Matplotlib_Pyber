{
 "cells": [
  {
   "cell_type": "markdown",
   "metadata": {},
   "source": [
    "## PYBER ANALYSIS\n",
    "* From the pyber analysis, Pyber Ride Sharing scatter plot, we can see that the greatest\n",
    "*number of rides per city are in Urban areas as would be expected and that the average fairs per city are typically lower in \n",
    "*urban areas although the fares are pretty spread out in rural areas. Additionally, looking at the size of the circles *corresponding to the driver count per city on the scatter plot, \n",
    "*we can see that the circles are much bigger for Urban areas meaning that there are more drivers in urban areas. Similarly, \n",
    "*studying the pie charts, we can see that Urban cities account for more than 50% of total fares and total rides and more than\n",
    "*80% of the total drivers per city. \n"
   ]
  },
  {
   "cell_type": "code",
   "execution_count": 26,
   "metadata": {},
   "outputs": [],
   "source": [
    "# Dependencies and Setup\n",
    "%matplotlib inline\n",
    "\n",
    "import matplotlib.pyplot as plt\n",
    "import pandas as pd\n",
    "import numpy as np"
   ]
  },
  {
   "cell_type": "code",
   "execution_count": 27,
   "metadata": {},
   "outputs": [],
   "source": [
    "# File to Load (Remember to change these)\n",
    "city_data_to_load = \"data/city_data.csv\"\n",
    "ride_data_to_load = \"data/ride_data.csv\"\n",
    "\n",
    "# Read the City and Ride Data\n",
    "city_df = pd.read_csv(city_data_to_load)\n",
    "ride_df = pd.read_csv(ride_data_to_load)\n"
   ]
  },
  {
   "cell_type": "code",
   "execution_count": 30,
   "metadata": {},
   "outputs": [
    {
     "data": {
      "text/html": [
       "<div>\n",
       "<style scoped>\n",
       "    .dataframe tbody tr th:only-of-type {\n",
       "        vertical-align: middle;\n",
       "    }\n",
       "\n",
       "    .dataframe tbody tr th {\n",
       "        vertical-align: top;\n",
       "    }\n",
       "\n",
       "    .dataframe thead th {\n",
       "        text-align: right;\n",
       "    }\n",
       "</style>\n",
       "<table border=\"1\" class=\"dataframe\">\n",
       "  <thead>\n",
       "    <tr style=\"text-align: right;\">\n",
       "      <th></th>\n",
       "      <th>city</th>\n",
       "      <th>date</th>\n",
       "      <th>fare</th>\n",
       "      <th>ride_id</th>\n",
       "      <th>driver_count</th>\n",
       "      <th>type</th>\n",
       "    </tr>\n",
       "  </thead>\n",
       "  <tbody>\n",
       "    <tr>\n",
       "      <th>0</th>\n",
       "      <td>Lake Jonathanshire</td>\n",
       "      <td>2018-01-14 10:14:22</td>\n",
       "      <td>13.83</td>\n",
       "      <td>5739410935873</td>\n",
       "      <td>5</td>\n",
       "      <td>Urban</td>\n",
       "    </tr>\n",
       "    <tr>\n",
       "      <th>1</th>\n",
       "      <td>South Michelleport</td>\n",
       "      <td>2018-03-04 18:24:09</td>\n",
       "      <td>30.24</td>\n",
       "      <td>2343912425577</td>\n",
       "      <td>72</td>\n",
       "      <td>Urban</td>\n",
       "    </tr>\n",
       "    <tr>\n",
       "      <th>2</th>\n",
       "      <td>Port Samanthamouth</td>\n",
       "      <td>2018-02-24 04:29:00</td>\n",
       "      <td>33.44</td>\n",
       "      <td>2005065760003</td>\n",
       "      <td>57</td>\n",
       "      <td>Urban</td>\n",
       "    </tr>\n",
       "    <tr>\n",
       "      <th>3</th>\n",
       "      <td>Rodneyfort</td>\n",
       "      <td>2018-02-10 23:22:03</td>\n",
       "      <td>23.44</td>\n",
       "      <td>5149245426178</td>\n",
       "      <td>34</td>\n",
       "      <td>Urban</td>\n",
       "    </tr>\n",
       "    <tr>\n",
       "      <th>4</th>\n",
       "      <td>South Jack</td>\n",
       "      <td>2018-03-06 04:28:35</td>\n",
       "      <td>34.58</td>\n",
       "      <td>3908451377344</td>\n",
       "      <td>46</td>\n",
       "      <td>Urban</td>\n",
       "    </tr>\n",
       "  </tbody>\n",
       "</table>\n",
       "</div>"
      ],
      "text/plain": [
       "                 city                 date   fare        ride_id  \\\n",
       "0  Lake Jonathanshire  2018-01-14 10:14:22  13.83  5739410935873   \n",
       "1  South Michelleport  2018-03-04 18:24:09  30.24  2343912425577   \n",
       "2  Port Samanthamouth  2018-02-24 04:29:00  33.44  2005065760003   \n",
       "3          Rodneyfort  2018-02-10 23:22:03  23.44  5149245426178   \n",
       "4          South Jack  2018-03-06 04:28:35  34.58  3908451377344   \n",
       "\n",
       "   driver_count   type  \n",
       "0             5  Urban  \n",
       "1            72  Urban  \n",
       "2            57  Urban  \n",
       "3            34  Urban  \n",
       "4            46  Urban  "
      ]
     },
     "execution_count": 30,
     "metadata": {},
     "output_type": "execute_result"
    }
   ],
   "source": [
    "# Combine the data into a single dataset\n",
    "cityride_df =pd.merge(ride_df, city_df, how =\"left\", on = \"city\")\n",
    "# Display the data table for preview\n",
    "cityride_df.head()"
   ]
  },
  {
   "cell_type": "markdown",
   "metadata": {},
   "source": [
    "## Bubble Plot of Ride Sharing Data"
   ]
  },
  {
   "cell_type": "code",
   "execution_count": 33,
   "metadata": {},
   "outputs": [
    {
     "data": {
      "text/html": [
       "<div>\n",
       "<style scoped>\n",
       "    .dataframe tbody tr th:only-of-type {\n",
       "        vertical-align: middle;\n",
       "    }\n",
       "\n",
       "    .dataframe tbody tr th {\n",
       "        vertical-align: top;\n",
       "    }\n",
       "\n",
       "    .dataframe thead th {\n",
       "        text-align: right;\n",
       "    }\n",
       "</style>\n",
       "<table border=\"1\" class=\"dataframe\">\n",
       "  <thead>\n",
       "    <tr style=\"text-align: right;\">\n",
       "      <th></th>\n",
       "      <th>fare</th>\n",
       "      <th>driver_count</th>\n",
       "    </tr>\n",
       "    <tr>\n",
       "      <th>city</th>\n",
       "      <th></th>\n",
       "      <th></th>\n",
       "    </tr>\n",
       "  </thead>\n",
       "  <tbody>\n",
       "    <tr>\n",
       "      <th>Amandaburgh</th>\n",
       "      <td>24.641667</td>\n",
       "      <td>12.0</td>\n",
       "    </tr>\n",
       "    <tr>\n",
       "      <th>Barajasview</th>\n",
       "      <td>25.332273</td>\n",
       "      <td>26.0</td>\n",
       "    </tr>\n",
       "    <tr>\n",
       "      <th>Barronchester</th>\n",
       "      <td>36.422500</td>\n",
       "      <td>11.0</td>\n",
       "    </tr>\n",
       "    <tr>\n",
       "      <th>Bethanyland</th>\n",
       "      <td>32.956111</td>\n",
       "      <td>22.0</td>\n",
       "    </tr>\n",
       "    <tr>\n",
       "      <th>Bradshawfurt</th>\n",
       "      <td>40.064000</td>\n",
       "      <td>7.0</td>\n",
       "    </tr>\n",
       "  </tbody>\n",
       "</table>\n",
       "</div>"
      ],
      "text/plain": [
       "                    fare  driver_count\n",
       "city                                  \n",
       "Amandaburgh    24.641667          12.0\n",
       "Barajasview    25.332273          26.0\n",
       "Barronchester  36.422500          11.0\n",
       "Bethanyland    32.956111          22.0\n",
       "Bradshawfurt   40.064000           7.0"
      ]
     },
     "execution_count": 33,
     "metadata": {},
     "output_type": "execute_result"
    }
   ],
   "source": [
    "# Obtain the x and y coordinates for each of the three city types\n",
    "#Obtain the driver count and average fare information. \n",
    "ctype_group = cityride_df.groupby(\"city\").mean()\n",
    "#print(ctype_group.head())\n",
    "mean_fare = ctype_group[[\"fare\", \"driver_count\"]]\n",
    "ctype_group.head()\n",
    "mean_fare.head()"
   ]
  },
  {
   "cell_type": "code",
   "execution_count": 61,
   "metadata": {},
   "outputs": [
    {
     "data": {
      "text/html": [
       "<div>\n",
       "<style scoped>\n",
       "    .dataframe tbody tr th:only-of-type {\n",
       "        vertical-align: middle;\n",
       "    }\n",
       "\n",
       "    .dataframe tbody tr th {\n",
       "        vertical-align: top;\n",
       "    }\n",
       "\n",
       "    .dataframe thead th {\n",
       "        text-align: right;\n",
       "    }\n",
       "</style>\n",
       "<table border=\"1\" class=\"dataframe\">\n",
       "  <thead>\n",
       "    <tr style=\"text-align: right;\">\n",
       "      <th></th>\n",
       "      <th>ride_id</th>\n",
       "    </tr>\n",
       "    <tr>\n",
       "      <th>city</th>\n",
       "      <th></th>\n",
       "    </tr>\n",
       "  </thead>\n",
       "  <tbody>\n",
       "    <tr>\n",
       "      <th>Amandaburgh</th>\n",
       "      <td>18</td>\n",
       "    </tr>\n",
       "    <tr>\n",
       "      <th>Barajasview</th>\n",
       "      <td>22</td>\n",
       "    </tr>\n",
       "    <tr>\n",
       "      <th>Barronchester</th>\n",
       "      <td>16</td>\n",
       "    </tr>\n",
       "    <tr>\n",
       "      <th>Bethanyland</th>\n",
       "      <td>18</td>\n",
       "    </tr>\n",
       "    <tr>\n",
       "      <th>Bradshawfurt</th>\n",
       "      <td>10</td>\n",
       "    </tr>\n",
       "  </tbody>\n",
       "</table>\n",
       "</div>"
      ],
      "text/plain": [
       "               ride_id\n",
       "city                  \n",
       "Amandaburgh         18\n",
       "Barajasview         22\n",
       "Barronchester       16\n",
       "Bethanyland         18\n",
       "Bradshawfurt        10"
      ]
     },
     "execution_count": 61,
     "metadata": {},
     "output_type": "execute_result"
    }
   ],
   "source": [
    "#Obtain the ride count information and put into a dataframe\n",
    "ctype_count = cityride_df.groupby(\"city\").count()\n",
    "ride_count = ctype_count[[\"ride_id\"]]\n",
    "ride_count.head()"
   ]
  },
  {
   "cell_type": "code",
   "execution_count": 62,
   "metadata": {},
   "outputs": [
    {
     "data": {
      "text/html": [
       "<div>\n",
       "<style scoped>\n",
       "    .dataframe tbody tr th:only-of-type {\n",
       "        vertical-align: middle;\n",
       "    }\n",
       "\n",
       "    .dataframe tbody tr th {\n",
       "        vertical-align: top;\n",
       "    }\n",
       "\n",
       "    .dataframe thead th {\n",
       "        text-align: right;\n",
       "    }\n",
       "</style>\n",
       "<table border=\"1\" class=\"dataframe\">\n",
       "  <thead>\n",
       "    <tr style=\"text-align: right;\">\n",
       "      <th></th>\n",
       "      <th>city</th>\n",
       "      <th>type</th>\n",
       "    </tr>\n",
       "  </thead>\n",
       "  <tbody>\n",
       "    <tr>\n",
       "      <th>0</th>\n",
       "      <td>Lake Jonathanshire</td>\n",
       "      <td>Urban</td>\n",
       "    </tr>\n",
       "    <tr>\n",
       "      <th>1</th>\n",
       "      <td>South Michelleport</td>\n",
       "      <td>Urban</td>\n",
       "    </tr>\n",
       "    <tr>\n",
       "      <th>2</th>\n",
       "      <td>Port Samanthamouth</td>\n",
       "      <td>Urban</td>\n",
       "    </tr>\n",
       "    <tr>\n",
       "      <th>3</th>\n",
       "      <td>Rodneyfort</td>\n",
       "      <td>Urban</td>\n",
       "    </tr>\n",
       "    <tr>\n",
       "      <th>4</th>\n",
       "      <td>South Jack</td>\n",
       "      <td>Urban</td>\n",
       "    </tr>\n",
       "  </tbody>\n",
       "</table>\n",
       "</div>"
      ],
      "text/plain": [
       "                 city   type\n",
       "0  Lake Jonathanshire  Urban\n",
       "1  South Michelleport  Urban\n",
       "2  Port Samanthamouth  Urban\n",
       "3          Rodneyfort  Urban\n",
       "4          South Jack  Urban"
      ]
     },
     "execution_count": 62,
     "metadata": {},
     "output_type": "execute_result"
    }
   ],
   "source": [
    "#Get a dataframe with city type information\n",
    "ctype = cityride_df[[\"city\", \"type\"]]\n",
    "ctype.head()\n"
   ]
  },
  {
   "cell_type": "code",
   "execution_count": 63,
   "metadata": {},
   "outputs": [
    {
     "name": "stdout",
     "output_type": "stream",
     "text": [
      "                    fare  driver_count\n",
      "city                                  \n",
      "Amandaburgh    24.641667          12.0\n",
      "Barajasview    25.332273          26.0\n",
      "Barronchester  36.422500          11.0\n",
      "Bethanyland    32.956111          22.0\n",
      "Bradshawfurt   40.064000           7.0\n",
      "               ride_id\n",
      "city                  \n",
      "Amandaburgh         18\n",
      "Barajasview         22\n",
      "Barronchester       16\n",
      "Bethanyland         18\n",
      "Bradshawfurt        10\n",
      "                 city   type\n",
      "0  Lake Jonathanshire  Urban\n",
      "1  South Michelleport  Urban\n",
      "2  Port Samanthamouth  Urban\n",
      "3          Rodneyfort  Urban\n",
      "4          South Jack  Urban\n"
     ]
    }
   ],
   "source": [
    "#Print out the different data frames to be combined. \n",
    "print(mean_fare.head())\n",
    "print(ride_count.head())\n",
    "print(ctype.head())"
   ]
  },
  {
   "cell_type": "code",
   "execution_count": 57,
   "metadata": {},
   "outputs": [
    {
     "name": "stdout",
     "output_type": "stream",
     "text": [
      "               Ride Count  Average Fare  Driver Count      Type\n",
      "City                                                           \n",
      "Amandaburgh            18     24.641667          12.0     Urban\n",
      "Barajasview            22     25.332273          26.0     Urban\n",
      "Barronchester          16     36.422500          11.0  Suburban\n",
      "Bethanyland            18     32.956111          22.0  Suburban\n",
      "Bradshawfurt           10     40.064000           7.0     Rural\n"
     ]
    }
   ],
   "source": [
    "#Put dataframes together to prepare for a scatter plot. \n",
    "twomerged_df = pd.merge(ride_count, mean_fare, on = \"city\")\n",
    "#print(twomerged_df.head())\n",
    "\n",
    "merged_df = pd.merge(twomerged_df, ctype, on = \"city\")\n",
    "#print(merged_df.head())\n",
    "#Rename the columns to make sense of the titles.\n",
    "merged_df = merged_df.rename(columns = {\"city\": \"City\", \"ride_id\": \"Ride Count\", \"fare\": \"Average Fare\", \"driver_count\": \"Driver Count\", \"type\":\"Type\"})\n",
    "merged_df = merged_df.set_index(\"City\")\n",
    "#Drop all dupicates to get unique rows with scatter plot values. \n",
    "merged_df = merged_df.drop_duplicates()\n",
    "print(merged_df.head())"
   ]
  },
  {
   "cell_type": "code",
   "execution_count": 59,
   "metadata": {},
   "outputs": [],
   "source": [
    "#Create separate data frames for each city type.\n",
    "urb_df = merged_df[merged_df[\"Type\"]==\"Urban\"]\n",
    "urb_df.head()\n",
    "surb_df = merged_df[merged_df[\"Type\"]==\"Suburban\"]\n",
    "surb_df.head()\n",
    "rral_df = merged_df[merged_df[\"Type\"]==\"Rural\"]\n"
   ]
  },
  {
   "cell_type": "code",
   "execution_count": 60,
   "metadata": {},
   "outputs": [
    {
     "data": {
      "image/png": "[encoded data removed]",
      "text/plain": [
       "<Figure size 432x288 with 1 Axes>"
      ]
     },
     "metadata": {},
     "output_type": "display_data"
    }
   ],
   "source": [
    "# Build the scatter plots for each city types\n",
    "\n",
    "plt.scatter(x = urb_df[\"Ride Count\"], y = urb_df[\"Average Fare\"], s = urb_df[\"Driver Count\"]*8, color = 'tomato', alpha = 0.55, edgecolors =\"black\")\n",
    "plt.scatter(x = surb_df[\"Ride Count\"], y = surb_df[\"Average Fare\"], s = surb_df[\"Driver Count\"]*8, color = 'lightblue',alpha = 0.55,edgecolors =\"black\")\n",
    "plt.scatter(x = rral_df[\"Ride Count\"], y = rral_df[\"Average Fare\"], s = rral_df[\"Driver Count\"]*8, color = 'gold',alpha = 0.55,edgecolors =\"black\")\n",
    "# Incorporate the other graph properties\n",
    "# Create a legend\n",
    "plt.xlabel(\"Total Number of Rides (Per City)\")\n",
    "plt.ylabel(\"Average Fare ($)\")\n",
    "plt.title(\"Pyber Ride Sharing Data (2016)\")\n",
    "plt.legend(labels=[\"Urban\",\"Suburban\",\"Rural\"], loc = \"best\", title = \"City Types\")\n",
    "plt.grid(True)\n",
    "# Incorporate a text label regarding circle size\n",
    "plt.figtext(0.92,0.5,\"Note:\")\n",
    "plt.figtext(0.92,0.46,\"Circle size correlates to driver count per city\")\n",
    "# Save Figure\n",
    "plt.savefig(\"Images/pyberscatter.png\")\n",
    "# Show plot\n",
    "plt.show()"
   ]
  },
  {
   "cell_type": "markdown",
   "metadata": {},
   "source": [
    "## Total Fares by City Type"
   ]
  },
  {
   "cell_type": "code",
   "execution_count": 40,
   "metadata": {},
   "outputs": [
    {
     "name": "stdout",
     "output_type": "stream",
     "text": [
      "type\n",
      "Rural        6.811493\n",
      "Suburban    30.463872\n",
      "Urban       62.724635\n",
      "Name: fare, dtype: float64\n"
     ]
    }
   ],
   "source": [
    "# Calculate Type Percents\n",
    "totalfares_type = 100*(cityride_df.groupby(\"type\").sum()[\"fare\"]/cityride_df[\"fare\"].sum())\n",
    "\n",
    "#totalfares = len(cityride_df)\n",
    "# farepercent = []\n",
    "# for fare in totalfares_type:\n",
    "#     fare= fare/totalfares\n",
    "#     farepercent.append(fare)\n",
    "\n",
    "# print(totalfares)\n",
    "# print(farepercent)\n",
    "print(totalfares_type)"
   ]
  },
  {
   "cell_type": "code",
   "execution_count": 41,
   "metadata": {},
   "outputs": [
    {
     "data": {
      "text/plain": [
       "<function matplotlib.pyplot.show(*args, **kw)>"
      ]
     },
     "execution_count": 41,
     "metadata": {},
     "output_type": "execute_result"
    },
    {
     "data": {
      "image/png": "[encoded data removed]",
      "text/plain": [
       "<Figure size 432x288 with 1 Axes>"
      ]
     },
     "metadata": {},
     "output_type": "display_data"
    }
   ],
   "source": [
    "# Build Pie Chart\n",
    "explode = [0,0,0.1]\n",
    "labels= [\"Rural\",\"Suburban\",\"Urban\"]\n",
    "colors =[\"gold\",\"lightblue\",\"lightcoral\"]\n",
    "plt.pie(x=totalfares_type, explode=explode, labels = labels, colors =colors, autopct = \"%1.1f%%\",shadow = True, startangle = 160)\n",
    "plt.title(\"% of Total Fares by City Type\")\n",
    "# Save Figure\n",
    "plt.savefig(\"Images/FaresbyCity.png\")\n",
    "# Show Figure\n",
    "plt.show\n",
    "\n",
    "\n"
   ]
  },
  {
   "cell_type": "markdown",
   "metadata": {},
   "source": [
    "## Total Rides by City Type"
   ]
  },
  {
   "cell_type": "code",
   "execution_count": 42,
   "metadata": {},
   "outputs": [
    {
     "name": "stdout",
     "output_type": "stream",
     "text": [
      "type\n",
      "Rural        5.263158\n",
      "Suburban    26.315789\n",
      "Urban       68.421053\n",
      "Name: ride_id, dtype: float64\n"
     ]
    }
   ],
   "source": [
    "# Calculate Ride Percents\n",
    "typegroupcount = 100*(cityride_df.groupby(\"type\").count()[\"ride_id\"]/cityride_df[\"ride_id\"].count())\n",
    "#  = cityride_df.groupby(\"type\").count()\n",
    "# totalrides_type = typegroupcount[\"ride_id\"]\n",
    "# totalrides = len(cityride_df)\n",
    "# ridepercent = []\n",
    "# for ride in totalrides_type:\n",
    "#     ride = ride/totalrides\n",
    "#     ridepercent.append(ride)\n",
    "\n",
    "# print(totalrides)\n",
    "# print(ridepercent)\n",
    "print(typegroupcount)"
   ]
  },
  {
   "cell_type": "code",
   "execution_count": 43,
   "metadata": {},
   "outputs": [
    {
     "data": {
      "text/plain": [
       "<function matplotlib.pyplot.show(*args, **kw)>"
      ]
     },
     "execution_count": 43,
     "metadata": {},
     "output_type": "execute_result"
    },
    {
     "data": {
      "image/png": "[encoded data removed]",
      "text/plain": [
       "<Figure size 432x288 with 1 Axes>"
      ]
     },
     "metadata": {},
     "output_type": "display_data"
    }
   ],
   "source": [
    "# Build Pie Chart\n",
    "explode = [0,0,0.1]\n",
    "labels= [\"Rural\",\"Suburban\",\"Urban\"]\n",
    "colors =[\"gold\",\"lightblue\",\"lightcoral\"]\n",
    "plt.pie(x=typegroupcount, explode=explode, labels = labels, colors =colors, autopct = \"%1.1f%%\",shadow = True, startangle = 160)\n",
    "plt.title(\"% of Total Rides by City Type\")\n",
    "# Save Figure\n",
    "plt.savefig(\"Images/RidesbyCity.png\")\n",
    "# Show Figure\n",
    "plt.show"
   ]
  },
  {
   "cell_type": "markdown",
   "metadata": {},
   "source": [
    "## Total Drivers by City Type"
   ]
  },
  {
   "cell_type": "code",
   "execution_count": 45,
   "metadata": {},
   "outputs": [
    {
     "name": "stdout",
     "output_type": "stream",
     "text": [
      "type\n",
      "Rural        0.781557\n",
      "Suburban    12.472893\n",
      "Urban       86.745550\n",
      "Name: driver_count, dtype: float64\n"
     ]
    }
   ],
   "source": [
    "# Calculate Driver Percents\n",
    "totaldrivers_type = 100*(cityride_df.groupby(\"type\").sum()[\"driver_count\"]/cityride_df[\"driver_count\"].sum())\n",
    "# typegroupsum = cityride_df.groupby(\"type\").sum()[\"driver_count\"]/\n",
    "# totaldriver_type = typegroupsum[\"driver_count\"]\n",
    "# totaldrivers = typegroupsum[\"driver_count\"].sum()\n",
    "# driverpercent = []\n",
    "# for driver in totaldriver_type:\n",
    "#     driver = driver/totaldrivers\n",
    "#     driverpercent.append(driver)\n",
    "# print(typegroupsum)\n",
    "# print(totaldrivers)\n",
    "# print(driverpercent)\n",
    "print(totaldrivers_type)\n",
    "\n"
   ]
  },
  {
   "cell_type": "code",
   "execution_count": 56,
   "metadata": {},
   "outputs": [
    {
     "data": {
      "text/plain": [
       "<function matplotlib.pyplot.show(*args, **kw)>"
      ]
     },
     "execution_count": 56,
     "metadata": {},
     "output_type": "execute_result"
    },
    {
     "data": {
      "image/png": "[encoded data removed]",
      "text/plain": [
       "<Figure size 432x288 with 1 Axes>"
      ]
     },
     "metadata": {},
     "output_type": "display_data"
    }
   ],
   "source": [
    "# Build Pie Charts\n",
    "# Save Figure\n",
    "explode = [0,0,0.1]\n",
    "labels= [\"Rural\",\"Suburban\",\"Urban\"]\n",
    "colors =[\"gold\",\"lightblue\",\"lightcoral\"]\n",
    "plt.pie(x=totaldrivers_type, explode=explode, labels = labels, colors =colors, autopct = \"%1.1f%%\",shadow = True, startangle = 160)\n",
    "plt.title(\"% of Total Drivers by City Type\")\n",
    "# Save Figure\n",
    "plt.savefig(\"Images/DriversbyCity.png\")\n",
    "# Show Figure\n",
    "plt.show"
   ]
  },
  {
   "cell_type": "code",
   "execution_count": null,
   "metadata": {},
   "outputs": [],
   "source": []
  }
 ],
 "metadata": {
  "anaconda-cloud": {},
  "kernelspec": {
   "display_name": "Python 3",
   "language": "python",
   "name": "python3"
  },
  "language_info": {
   "codemirror_mode": {
    "name": "ipython",
    "version": 3
   },
   "file_extension": ".py",
   "mimetype": "text/x-python",
   "name": "python",
   "nbconvert_exporter": "python",
   "pygments_lexer": "ipython3",
   "version": "3.6.5"
  }
 },
 "nbformat": 4,
 "nbformat_minor": 2
}
